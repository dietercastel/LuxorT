{
 "cells": [
  {
   "cell_type": "code",
   "execution_count": 25,
   "metadata": {},
   "outputs": [
    {
     "name": "stdout",
     "output_type": "stream",
     "text": [
      "\u001b[32m\u001b[1mStatus\u001b[22m\u001b[39m `~/git/LuxorT/Project.toml`\n",
      " \u001b[90m [ae8d54c2]\u001b[39m\u001b[37m Luxor v1.11.0\u001b[39m\n",
      " \u001b[90m [91a5bcdd]\u001b[39m\u001b[37m Plots v1.2.0 [`../../.julia/dev/Plots`]\u001b[39m\n"
     ]
    },
    {
     "name": "stderr",
     "output_type": "stream",
     "text": [
      "Path `../../.julia/dev/Plots` exists and looks like the correct package. Using existing path.\n",
      "\u001b[32m\u001b[1m  Resolving\u001b[22m\u001b[39m package versions...\n"
     ]
    },
    {
     "name": "stdout",
     "output_type": "stream",
     "text": [
      "\u001b[32m\u001b[1mStatus\u001b[22m\u001b[39m `~/git/LuxorT/Project.toml`\n",
      " \u001b[90m [ae8d54c2]\u001b[39m\u001b[37m Luxor v1.11.0\u001b[39m\n",
      " \u001b[90m [91a5bcdd]\u001b[39m\u001b[37m Plots v1.2.0 [`../../.julia/dev/Plots`]\u001b[39m\n"
     ]
    },
    {
     "name": "stderr",
     "output_type": "stream",
     "text": [
      "\u001b[32m\u001b[1m   Updating\u001b[22m\u001b[39m `~/git/LuxorT/Project.toml`\n",
      "\u001b[90m [no changes]\u001b[39m\n",
      "\u001b[32m\u001b[1m   Updating\u001b[22m\u001b[39m `~/git/LuxorT/Manifest.toml`\n",
      "\u001b[90m [no changes]\u001b[39m\n"
     ]
    }
   ],
   "source": [
    "using Pkg\n",
    "Pkg.status()\n",
    "Pkg.develop(PackageSpec(path=\"../../.julia/dev/Plots\")) #doesn't work\n",
    "#Pkg.add(PackageSpec(path=\"../../.julia/dev/Plots\",rev=\"webm\")) #also doesn't work\n",
    "Pkg.status()"
   ]
  },
  {
   "cell_type": "code",
   "execution_count": 19,
   "metadata": {},
   "outputs": [
    {
     "ename": "UndefVarError",
     "evalue": "UndefVarError: webm not defined",
     "output_type": "error",
     "traceback": [
      "UndefVarError: webm not defined",
      "",
      "Stacktrace:",
      " [1] top-level scope at In[19]:2"
     ]
    }
   ],
   "source": [
    "using Plots\n",
    "webm"
   ]
  },
  {
   "cell_type": "code",
   "execution_count": 26,
   "metadata": {},
   "outputs": [
    {
     "name": "stdout",
     "output_type": "stream",
     "text": [
      "\u001b[32m\u001b[1mStatus\u001b[22m\u001b[39m `~/git/LuxorT/Project.toml`\n",
      " \u001b[90m [ae8d54c2]\u001b[39m\u001b[37m Luxor v1.11.0\u001b[39m\n",
      " \u001b[90m [91a5bcdd]\u001b[39m\u001b[37m Plots v1.2.0 [`../../.julia/dev/Plots`]\u001b[39m\n"
     ]
    },
    {
     "name": "stderr",
     "output_type": "stream",
     "text": [
      "\u001b[32m\u001b[1mPrecompiling\u001b[22m\u001b[39m project...\n",
      "┌ Info: Precompiling Plots [91a5bcdd-55d7-5caf-9e0b-520d859cae80]\n",
      "└ @ Base loading.jl:1260\n"
     ]
    },
    {
     "ename": "UndefVarError",
     "evalue": "UndefVarError: webm not defined",
     "output_type": "error",
     "traceback": [
      "UndefVarError: webm not defined",
      "",
      "Stacktrace:",
      " [1] top-level scope at In[26]:26"
     ]
    }
   ],
   "source": [
    "using Pkg\n",
    "Pkg.status()\n",
    "using Plots\n",
    "Pkg.precompile()\n",
    "\n",
    "@userplot CirclePlot\n",
    "@recipe function f(cp::CirclePlot)\n",
    "    x, y, i = cp.args\n",
    "    n = length(x)\n",
    "    inds = circshift(1:n, 1 - i)\n",
    "    linewidth --> range(0, 10, length = n)\n",
    "    seriesalpha --> range(0, 1, length = n)\n",
    "    aspect_ratio --> 1\n",
    "    label --> false\n",
    "    x[inds], y[inds]\n",
    "end\n",
    "\n",
    "n = 150\n",
    "t = range(0, 2π, length = n)\n",
    "x = sin.(t)\n",
    "y = cos.(t)\n",
    "\n",
    "anim = @animate for i ∈ 1:n\n",
    "    circleplot(x, y, i)\n",
    "end\n",
    "webm(anim, \"tst.webm\", fps=15)"
   ]
  },
  {
   "cell_type": "code",
   "execution_count": null,
   "metadata": {},
   "outputs": [],
   "source": []
  }
 ],
 "metadata": {
  "kernelspec": {
   "display_name": "Julia 1.4.1",
   "language": "julia",
   "name": "julia-1.4"
  },
  "language_info": {
   "file_extension": ".jl",
   "mimetype": "application/julia",
   "name": "julia",
   "version": "1.4.1"
  }
 },
 "nbformat": 4,
 "nbformat_minor": 2
}
